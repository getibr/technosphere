{
 "cells": [
  {
   "cell_type": "markdown",
   "metadata": {},
   "source": [
    "**Общая информация**\n",
    "\n",
    "**Срок сдачи:** 20 марта 2019, 06:00 <br\\>\n",
    "**Штраф за опоздание:** -1 балл после 06:00 20 марта, -2 балла после 06:00 27 марта, -3 балла после 06:00 3 апреля\n",
    "\n",
    "При отправлении ДЗ указывайте фамилию в названии файла\n",
    "Присылать ДЗ необходимо в виде ссылки на свой github репозиторий в slack @alkhamush\n",
    "\n",
    "Необходимо в slack скинуть ссылку в личный чат @alkhamush\n",
    "Пример ссылки:\n",
    "https://github.com/stroykova/spheremailru/stroykova_hw1.ipynb \n",
    "\n",
    "\n",
    "Используйте данный Ipython Notebook при оформлении домашнего задания."
   ]
  },
  {
   "cell_type": "markdown",
   "metadata": {},
   "source": [
    "###### Задание 1 (2 баллов)\n",
    "Реализовать KNN в классе MyKNeighborsClassifier (обязательное условие: точность не ниже sklearn реализации)\n",
    "Разберитесь самостоятельно, какая мера расстояния используется в KNeighborsClassifier дефолтно и реализуйте свой алгоритм именно с этой мерой. Самостоятельно разберитесь, как считается score из KNeighborsClassifier и реализуйте аналог в своём классе. Score не должен уступать значению KNN из sklearn\n",
    "\n",
    "###### Задание 2 (2 балла)\n",
    "Добиться скорости работы на fit,  predict и predict_proba сравнимой со sklearn для iris и mnist\n",
    "Для этого используем numpy\n",
    "\n",
    "###### Задание 3 (2 балла)\n",
    "Для iris найдите такой параметр n_neighbors, при котором выдаётся наилучший score. Нарисуйте график зависимости score от n_neighbors\n",
    "\n",
    "###### Задание 4 (3 балла)\n",
    "Добавить algorithm='kd_tree' в реализацию KNN (использовать KDTree из sklearn.neighbors). Значение n_neighbors нужно взять из задания 3. Добиться скорости работы на fit,  predict и predict_proba сравнимой со sklearn для iris и mnist\n",
    "Для этого используем numpy. Score не должен уступать значению KNN из sklearn\n",
    "\n",
    "###### Задание 5 (1 балла)\n",
    "Описать для чего нужны следующие библиотеки/классы/функции (список будет ниже)\n",
    "\n",
    "**Штрафные баллы:**\n",
    "\n",
    "1. Невыполнение PEP8 -1 балл\n",
    "2. Отсутствие фамилии в имени скрипта (скрипт должен называться по аналогии со stroykova_hw1.ipynb) -1 балл\n",
    "3. Все строчки должны быть выполнены. Нужно, чтобы output команды можно было увидеть уже в git'е. В противном случае -1 балл\n",
    "4. При оформлении ДЗ нужно пользоваться данным файлом в качестве шаблона. Не нужно удалять и видоизменять структуру кода и текст. В противном случае -1 балл\n"
   ]
  },
  {
   "cell_type": "code",
   "execution_count": 23,
   "metadata": {},
   "outputs": [
    {
     "name": "stdout",
     "output_type": "stream",
     "text": [
      "The pycodestyle_magic extension is already loaded. To reload it, use:\n",
      "  %reload_ext pycodestyle_magic\n"
     ]
    }
   ],
   "source": [
    "import numpy as np\n",
    "import matplotlib.pyplot as plt\n",
    "\n",
    "import seaborn as sns\n",
    "from sklearn import datasets\n",
    "from sklearn.base import ClassifierMixin\n",
    "from sklearn.datasets import fetch_mldata\n",
    "from sklearn.neighbors.base import NeighborsBase, KNeighborsMixin, SupervisedIntegerMixin \n",
    "from sklearn.model_selection import train_test_split\n",
    "from sklearn.neighbors import KNeighborsClassifier\n",
    "%load_ext pycodestyle_magic"
   ]
  },
  {
   "cell_type": "code",
   "execution_count": 8,
   "metadata": {},
   "outputs": [],
   "source": [
    "#%%pycodestyle\n",
    "import scipy\n",
    "from sklearn.neighbors import KDTree\n",
    "\n",
    "\n",
    "class MyKNeighborsClassifier(NeighborsBase, KNeighborsMixin,\n",
    "                             SupervisedIntegerMixin, ClassifierMixin):\n",
    "\n",
    "    def __init__(self, n_neighbors, algorithm='brute'):\n",
    "        self.algorithm = algorithm\n",
    "        self.n_neighbors = n_neighbors\n",
    "        pass\n",
    "\n",
    "    def fit(self, X, y):\n",
    "        self.X_train = X\n",
    "        self.y_train = y\n",
    "        if (self.algorithm == 'kd_tree'):\n",
    "            self.X_train = KDTree(X, metric='euclidean')\n",
    "        pass\n",
    "\n",
    "    def predict(self, X):\n",
    "        if (self.algorithm == 'kd_tree'):\n",
    "            dist_sort, ind = self.X_train.query(X, k=self.n_neighbors)\n",
    "            target_class = self.y_train[ind[:, : self.n_neighbors]]\n",
    "        else:\n",
    "            dist = scipy.spatial.distance.cdist(X, self.X_train,\n",
    "                                                metric='euclidean')\n",
    "            dist_sort = np.argsort(dist, axis=1)\n",
    "            target_class = self.y_train[dist_sort[:, : self.n_neighbors]]\n",
    "        predict = scipy.stats.mode(target_class, axis=1)[0]\n",
    "        predict = np.ravel(predict)\n",
    "        return predict\n",
    "        pass\n",
    "\n",
    "    def predict_proba(self, X):\n",
    "        if (self.algorithm == 'kd_tree'):\n",
    "            dist_sort, ind = self.X_train.query(X, k=self.n_neighbors)\n",
    "            target_class = self.y_train[ind[:, : self.n_neighbors]]\n",
    "        else:\n",
    "            dist = scipy.spatial.distance.cdist(X, self.X_train,\n",
    "                                                metric='euclidean')\n",
    "            dist_sort = np.argsort(dist, axis=1)\n",
    "            target_class = self.y_train[dist_sort[:, : self.n_neighbors]]\n",
    "        strok_prob = np.zeros(shape=(len(target_class),\n",
    "                                     len(np.unique(self.y_train))))\n",
    "        for i in range(len(target_class)):\n",
    "            strok_prob[i] = np.bincount(target_class[i], minlength=len(\n",
    "                np.unique(self.y_train))) / self.n_neighbors\n",
    "        return strok_prob\n",
    "        pass\n",
    "\n",
    "    def score(self, X, y):\n",
    "        score = np.mean(my_clf.predict(X) == y)\n",
    "        return score\n",
    "        pass"
   ]
  },
  {
   "cell_type": "markdown",
   "metadata": {},
   "source": [
    "**IRIS**"
   ]
  },
  {
   "cell_type": "code",
   "execution_count": 9,
   "metadata": {},
   "outputs": [],
   "source": [
    "iris = datasets.load_iris()"
   ]
  },
  {
   "cell_type": "code",
   "execution_count": 10,
   "metadata": {},
   "outputs": [],
   "source": [
    "X_train, X_test, y_train, y_test = train_test_split(iris.data, iris.target, test_size=0.1, stratify=iris.target)"
   ]
  },
  {
   "cell_type": "code",
   "execution_count": 11,
   "metadata": {},
   "outputs": [],
   "source": [
    "clf = KNeighborsClassifier(n_neighbors=2)\n",
    "my_clf = MyKNeighborsClassifier(n_neighbors=2)"
   ]
  },
  {
   "cell_type": "code",
   "execution_count": 12,
   "metadata": {},
   "outputs": [],
   "source": [
    "clf = KNeighborsClassifier(n_neighbors=2, algorithm='kd_tree')\n",
    "my_clf = MyKNeighborsClassifier(n_neighbors=2, algorithm='kd_tree')"
   ]
  },
  {
   "cell_type": "code",
   "execution_count": 13,
   "metadata": {},
   "outputs": [
    {
     "name": "stdout",
     "output_type": "stream",
     "text": [
      "CPU times: user 1.91 ms, sys: 2.7 ms, total: 4.61 ms\n",
      "Wall time: 8.85 ms\n"
     ]
    },
    {
     "data": {
      "text/plain": [
       "KNeighborsClassifier(algorithm='kd_tree', leaf_size=30, metric='minkowski',\n",
       "           metric_params=None, n_jobs=None, n_neighbors=2, p=2,\n",
       "           weights='uniform')"
      ]
     },
     "execution_count": 13,
     "metadata": {},
     "output_type": "execute_result"
    }
   ],
   "source": [
    "%time clf.fit(X_train, y_train)"
   ]
  },
  {
   "cell_type": "code",
   "execution_count": 14,
   "metadata": {},
   "outputs": [
    {
     "name": "stdout",
     "output_type": "stream",
     "text": [
      "CPU times: user 259 µs, sys: 202 µs, total: 461 µs\n",
      "Wall time: 451 µs\n"
     ]
    }
   ],
   "source": [
    "%time my_clf.fit(X_train, y_train)"
   ]
  },
  {
   "cell_type": "code",
   "execution_count": 15,
   "metadata": {},
   "outputs": [
    {
     "name": "stdout",
     "output_type": "stream",
     "text": [
      "CPU times: user 4.92 ms, sys: 5.83 ms, total: 10.8 ms\n",
      "Wall time: 11.4 ms\n"
     ]
    },
    {
     "data": {
      "text/plain": [
       "array([2, 0, 2, 1, 1, 2, 1, 0, 0, 0, 0, 2, 2, 1, 2])"
      ]
     },
     "execution_count": 15,
     "metadata": {},
     "output_type": "execute_result"
    }
   ],
   "source": [
    "%time clf.predict(X_test)"
   ]
  },
  {
   "cell_type": "code",
   "execution_count": 16,
   "metadata": {},
   "outputs": [
    {
     "name": "stdout",
     "output_type": "stream",
     "text": [
      "CPU times: user 3.55 ms, sys: 2.25 ms, total: 5.8 ms\n",
      "Wall time: 4.56 ms\n"
     ]
    },
    {
     "data": {
      "text/plain": [
       "array([2, 0, 2, 1, 1, 2, 1, 0, 0, 0, 0, 2, 2, 1, 2])"
      ]
     },
     "execution_count": 16,
     "metadata": {},
     "output_type": "execute_result"
    }
   ],
   "source": [
    "%time my_clf.predict(X_test)"
   ]
  },
  {
   "cell_type": "code",
   "execution_count": 17,
   "metadata": {},
   "outputs": [
    {
     "name": "stdout",
     "output_type": "stream",
     "text": [
      "CPU times: user 1.7 ms, sys: 685 µs, total: 2.38 ms\n",
      "Wall time: 1.9 ms\n"
     ]
    },
    {
     "data": {
      "text/plain": [
       "array([[0., 0., 1.],\n",
       "       [1., 0., 0.],\n",
       "       [0., 0., 1.],\n",
       "       [0., 1., 0.],\n",
       "       [0., 1., 0.],\n",
       "       [0., 0., 1.],\n",
       "       [0., 1., 0.],\n",
       "       [1., 0., 0.],\n",
       "       [1., 0., 0.],\n",
       "       [1., 0., 0.],\n",
       "       [1., 0., 0.],\n",
       "       [0., 0., 1.],\n",
       "       [0., 0., 1.],\n",
       "       [0., 1., 0.],\n",
       "       [0., 0., 1.]])"
      ]
     },
     "execution_count": 17,
     "metadata": {},
     "output_type": "execute_result"
    }
   ],
   "source": [
    "%time clf.predict_proba(X_test)"
   ]
  },
  {
   "cell_type": "code",
   "execution_count": 18,
   "metadata": {},
   "outputs": [
    {
     "name": "stdout",
     "output_type": "stream",
     "text": [
      "CPU times: user 2.18 ms, sys: 1.44 ms, total: 3.63 ms\n",
      "Wall time: 2.26 ms\n"
     ]
    },
    {
     "data": {
      "text/plain": [
       "array([[0., 0., 1.],\n",
       "       [1., 0., 0.],\n",
       "       [0., 0., 1.],\n",
       "       [0., 1., 0.],\n",
       "       [0., 1., 0.],\n",
       "       [0., 0., 1.],\n",
       "       [0., 1., 0.],\n",
       "       [1., 0., 0.],\n",
       "       [1., 0., 0.],\n",
       "       [1., 0., 0.],\n",
       "       [1., 0., 0.],\n",
       "       [0., 0., 1.],\n",
       "       [0., 0., 1.],\n",
       "       [0., 1., 0.],\n",
       "       [0., 0., 1.]])"
      ]
     },
     "execution_count": 18,
     "metadata": {},
     "output_type": "execute_result"
    }
   ],
   "source": [
    "%time my_clf.predict_proba(X_test)"
   ]
  },
  {
   "cell_type": "code",
   "execution_count": 19,
   "metadata": {},
   "outputs": [
    {
     "data": {
      "text/plain": [
       "0.9333333333333333"
      ]
     },
     "execution_count": 19,
     "metadata": {},
     "output_type": "execute_result"
    }
   ],
   "source": [
    "clf.score(X_test, y_test)"
   ]
  },
  {
   "cell_type": "code",
   "execution_count": 20,
   "metadata": {},
   "outputs": [
    {
     "data": {
      "text/plain": [
       "0.9333333333333333"
      ]
     },
     "execution_count": 20,
     "metadata": {},
     "output_type": "execute_result"
    }
   ],
   "source": [
    "my_clf.score(X_test, y_test)"
   ]
  },
  {
   "cell_type": "markdown",
   "metadata": {},
   "source": [
    "Задание 3"
   ]
  },
  {
   "cell_type": "code",
   "execution_count": 22,
   "metadata": {},
   "outputs": [
    {
     "name": "stdout",
     "output_type": "stream",
     "text": [
      "Best number is 17\n"
     ]
    },
    {
     "data": {
      "image/png": "[encoded data removed]",
      "text/plain": [
       "<Figure size 432x288 with 1 Axes>"
      ]
     },
     "metadata": {
      "needs_background": "light"
     },
     "output_type": "display_data"
    }
   ],
   "source": [
    "#%%pycodestyle\n",
    "n_neighbors = 50\n",
    "test_number = 100\n",
    "scores = []\n",
    "\n",
    "for i in range(1, n_neighbors):\n",
    "    test_score = []\n",
    "    for j in range(test_number):\n",
    "        X_train, X_test, y_train, y_test = train_test_split(\n",
    "            iris.data, iris.target,\n",
    "            test_size=0.1, stratify=iris.target\n",
    "        )\n",
    "        my_clf = MyKNeighborsClassifier(n_neighbors=i)\n",
    "        my_clf.fit(X_train, y_train)\n",
    "        test_score.append(my_clf.score(X_test, y_test))\n",
    "    scores.append(np.mean(test_score))\n",
    "\n",
    "best_n = np.argmax(scores) + 1\n",
    "print(\"Best number is {}\".format(best_n))\n",
    "\n",
    "plt.plot(list(range(1, n_neighbors)), scores)\n",
    "plt.show()"
   ]
  },
  {
   "cell_type": "markdown",
   "metadata": {},
   "source": [
    "**MNIST**"
   ]
  },
  {
   "cell_type": "code",
   "execution_count": 85,
   "metadata": {},
   "outputs": [],
   "source": [
    "from sklearn.datasets import fetch_openml\n",
    "mnist = fetch_openml('mnist_784', version=1, cache=True)\n",
    "mnist.target = mnist.target.astype(int)"
   ]
  },
  {
   "cell_type": "code",
   "execution_count": 86,
   "metadata": {},
   "outputs": [],
   "source": [
    "X_train, X_test, y_train, y_test = train_test_split(mnist.data, mnist.target, test_size=0.01, stratify=mnist.target)"
   ]
  },
  {
   "cell_type": "code",
   "execution_count": 87,
   "metadata": {},
   "outputs": [],
   "source": [
    "clf = KNeighborsClassifier(n_neighbors=2)\n",
    "my_clf = MyKNeighborsClassifier(n_neighbors=2)"
   ]
  },
  {
   "cell_type": "code",
   "execution_count": 88,
   "metadata": {},
   "outputs": [
    {
     "name": "stdout",
     "output_type": "stream",
     "text": [
      "CPU times: user 58.6 s, sys: 873 ms, total: 59.5 s\n",
      "Wall time: 59.6 s\n"
     ]
    },
    {
     "data": {
      "text/plain": [
       "KNeighborsClassifier(algorithm='auto', leaf_size=30, metric='minkowski',\n",
       "           metric_params=None, n_jobs=None, n_neighbors=2, p=2,\n",
       "           weights='uniform')"
      ]
     },
     "execution_count": 88,
     "metadata": {},
     "output_type": "execute_result"
    }
   ],
   "source": [
    "%time clf.fit(X_train, y_train)"
   ]
  },
  {
   "cell_type": "code",
   "execution_count": 89,
   "metadata": {},
   "outputs": [
    {
     "name": "stdout",
     "output_type": "stream",
     "text": [
      "CPU times: user 22 µs, sys: 66 µs, total: 88 µs\n",
      "Wall time: 93.2 µs\n"
     ]
    }
   ],
   "source": [
    "%time my_clf.fit(X_train, y_train)"
   ]
  },
  {
   "cell_type": "code",
   "execution_count": 90,
   "metadata": {},
   "outputs": [
    {
     "name": "stdout",
     "output_type": "stream",
     "text": [
      "CPU times: user 1min 11s, sys: 321 ms, total: 1min 11s\n",
      "Wall time: 1min 11s\n"
     ]
    },
    {
     "data": {
      "text/plain": [
       "array([7, 6, 0, 9, 1, 9, 1, 2, 9, 7, 6, 8, 8, 8, 1, 0, 5, 8, 7, 8, 1, 2,\n",
       "       9, 9, 3, 1, 7, 7, 3, 4, 7, 1, 8, 1, 0, 3, 7, 1, 1, 5, 2, 8, 9, 5,\n",
       "       5, 5, 9, 6, 6, 5, 2, 8, 4, 3, 3, 6, 6, 3, 4, 2, 9, 0, 4, 5, 2, 8,\n",
       "       1, 4, 6, 2, 3, 3, 4, 2, 6, 7, 8, 5, 0, 7, 6, 0, 4, 4, 0, 3, 8, 3,\n",
       "       9, 1, 1, 7, 9, 9, 5, 8, 5, 9, 5, 1, 7, 9, 8, 4, 0, 5, 5, 7, 2, 7,\n",
       "       9, 0, 3, 1, 2, 4, 5, 6, 2, 5, 6, 5, 4, 3, 6, 7, 5, 7, 7, 9, 6, 8,\n",
       "       0, 4, 6, 9, 9, 7, 2, 2, 6, 7, 3, 4, 5, 2, 8, 3, 6, 9, 1, 0, 4, 1,\n",
       "       6, 9, 0, 9, 4, 9, 2, 7, 9, 0, 0, 1, 1, 4, 4, 2, 4, 1, 7, 6, 0, 8,\n",
       "       6, 2, 9, 0, 0, 5, 3, 8, 1, 8, 3, 4, 2, 9, 4, 6, 4, 2, 4, 8, 1, 1,\n",
       "       5, 4, 0, 1, 6, 4, 1, 7, 2, 8, 2, 8, 1, 0, 6, 3, 7, 3, 9, 5, 2, 2,\n",
       "       3, 3, 7, 8, 7, 1, 3, 3, 4, 1, 6, 4, 6, 0, 8, 8, 6, 3, 5, 6, 5, 0,\n",
       "       2, 6, 9, 2, 3, 6, 5, 0, 7, 9, 1, 1, 7, 9, 0, 2, 7, 7, 4, 5, 2, 1,\n",
       "       6, 7, 4, 9, 2, 6, 3, 1, 9, 1, 2, 9, 6, 4, 4, 7, 4, 1, 6, 5, 0, 6,\n",
       "       8, 1, 3, 5, 1, 2, 2, 7, 0, 2, 7, 7, 4, 5, 4, 2, 6, 0, 3, 7, 3, 4,\n",
       "       9, 5, 3, 8, 6, 4, 0, 7, 0, 5, 4, 1, 0, 3, 2, 6, 6, 0, 2, 9, 3, 7,\n",
       "       3, 2, 3, 9, 7, 1, 4, 1, 9, 5, 8, 1, 0, 6, 7, 9, 6, 9, 0, 7, 6, 0,\n",
       "       8, 7, 3, 2, 0, 9, 9, 0, 4, 2, 2, 0, 1, 3, 7, 8, 1, 5, 6, 0, 9, 3,\n",
       "       0, 3, 8, 8, 5, 3, 7, 9, 8, 9, 8, 9, 4, 3, 1, 5, 6, 1, 4, 9, 3, 4,\n",
       "       8, 1, 2, 9, 0, 1, 2, 1, 2, 5, 8, 7, 8, 5, 0, 4, 8, 6, 6, 1, 9, 5,\n",
       "       3, 1, 5, 8, 4, 1, 0, 7, 8, 4, 0, 1, 6, 6, 6, 2, 2, 7, 3, 2, 7, 8,\n",
       "       2, 6, 0, 6, 1, 4, 9, 7, 1, 6, 5, 0, 3, 8, 3, 3, 6, 2, 5, 0, 1, 1,\n",
       "       5, 5, 6, 9, 1, 6, 4, 8, 9, 8, 3, 5, 2, 0, 6, 1, 7, 3, 4, 2, 1, 8,\n",
       "       1, 7, 9, 3, 2, 4, 0, 4, 3, 5, 9, 8, 8, 9, 1, 6, 6, 8, 4, 5, 5, 1,\n",
       "       8, 3, 4, 9, 2, 9, 4, 3, 5, 4, 0, 8, 0, 4, 5, 3, 1, 6, 5, 9, 4, 8,\n",
       "       7, 4, 2, 3, 9, 9, 2, 6, 6, 3, 3, 0, 0, 3, 0, 0, 8, 7, 9, 8, 9, 1,\n",
       "       8, 7, 7, 3, 9, 7, 2, 1, 2, 0, 7, 6, 1, 2, 2, 6, 0, 0, 0, 1, 6, 0,\n",
       "       5, 8, 4, 3, 1, 4, 3, 2, 1, 1, 7, 8, 8, 7, 0, 0, 9, 3, 8, 2, 0, 7,\n",
       "       5, 7, 6, 9, 5, 7, 6, 3, 0, 2, 3, 5, 6, 8, 0, 5, 5, 4, 7, 0, 4, 4,\n",
       "       4, 8, 7, 9, 7, 1, 5, 2, 0, 3, 1, 1, 1, 7, 3, 4, 4, 1, 2, 4, 7, 1,\n",
       "       4, 1, 6, 5, 2, 2, 1, 8, 5, 0, 2, 0, 9, 0, 2, 2, 5, 0, 2, 7, 7, 3,\n",
       "       0, 1, 7, 2, 2, 2, 1, 1, 6, 7, 3, 3, 7, 6, 3, 1, 1, 9, 3, 6, 3, 4,\n",
       "       2, 2, 7, 8, 9, 8, 6, 4, 7, 3, 5, 5, 1, 7, 1, 9, 0, 5])"
      ]
     },
     "execution_count": 90,
     "metadata": {},
     "output_type": "execute_result"
    }
   ],
   "source": [
    "%time clf.predict(X_test)"
   ]
  },
  {
   "cell_type": "code",
   "execution_count": 91,
   "metadata": {},
   "outputs": [
    {
     "name": "stdout",
     "output_type": "stream",
     "text": [
      "CPU times: user 51.6 s, sys: 1.55 s, total: 53.2 s\n",
      "Wall time: 53.9 s\n"
     ]
    },
    {
     "data": {
      "text/plain": [
       "array([7, 6, 0, 9, 1, 9, 1, 2, 9, 7, 6, 8, 8, 8, 1, 0, 5, 8, 7, 8, 1, 2,\n",
       "       9, 9, 3, 1, 7, 7, 3, 4, 7, 1, 8, 1, 0, 3, 7, 1, 1, 5, 2, 8, 9, 5,\n",
       "       5, 5, 9, 6, 6, 5, 2, 8, 4, 3, 3, 6, 6, 3, 4, 2, 9, 0, 4, 5, 2, 8,\n",
       "       1, 4, 6, 2, 3, 3, 4, 2, 6, 7, 8, 5, 0, 7, 6, 0, 4, 4, 0, 3, 8, 3,\n",
       "       9, 1, 1, 7, 9, 9, 5, 8, 5, 9, 5, 1, 7, 9, 8, 4, 0, 5, 5, 7, 2, 7,\n",
       "       9, 0, 3, 1, 2, 4, 5, 6, 2, 5, 6, 5, 4, 3, 6, 7, 5, 7, 7, 9, 6, 8,\n",
       "       0, 4, 6, 9, 9, 7, 2, 2, 6, 7, 3, 4, 5, 2, 8, 3, 6, 9, 1, 0, 4, 1,\n",
       "       6, 9, 0, 9, 4, 9, 2, 7, 9, 0, 0, 1, 1, 4, 4, 2, 4, 1, 7, 6, 0, 8,\n",
       "       6, 2, 9, 0, 0, 5, 3, 8, 1, 8, 3, 4, 2, 9, 4, 6, 4, 2, 4, 8, 1, 1,\n",
       "       5, 4, 0, 1, 6, 4, 1, 7, 2, 8, 2, 8, 1, 0, 6, 3, 7, 3, 9, 5, 2, 2,\n",
       "       3, 3, 7, 8, 7, 1, 3, 3, 4, 1, 6, 4, 6, 0, 8, 8, 6, 3, 5, 6, 5, 0,\n",
       "       2, 6, 9, 2, 3, 6, 5, 0, 7, 9, 1, 1, 7, 9, 0, 2, 7, 7, 4, 5, 2, 1,\n",
       "       6, 7, 4, 9, 2, 6, 3, 1, 9, 1, 2, 9, 6, 4, 4, 7, 4, 1, 6, 5, 0, 6,\n",
       "       8, 1, 3, 5, 1, 2, 2, 7, 0, 2, 7, 7, 4, 5, 4, 2, 6, 0, 3, 7, 3, 4,\n",
       "       9, 5, 3, 8, 6, 4, 0, 7, 0, 5, 4, 1, 0, 3, 2, 6, 6, 0, 2, 9, 3, 7,\n",
       "       3, 2, 3, 9, 7, 1, 4, 1, 9, 5, 8, 1, 0, 6, 7, 9, 6, 9, 0, 7, 6, 0,\n",
       "       8, 7, 3, 2, 0, 9, 9, 0, 4, 2, 2, 0, 1, 3, 7, 8, 1, 5, 6, 0, 9, 3,\n",
       "       0, 3, 8, 8, 5, 3, 7, 9, 8, 9, 8, 9, 4, 3, 1, 5, 6, 1, 4, 9, 3, 4,\n",
       "       8, 1, 2, 9, 0, 1, 2, 1, 2, 5, 8, 7, 8, 5, 0, 4, 8, 6, 6, 1, 9, 5,\n",
       "       3, 1, 5, 8, 4, 1, 0, 7, 8, 4, 0, 1, 6, 6, 6, 2, 2, 7, 3, 2, 7, 8,\n",
       "       2, 6, 0, 6, 1, 4, 9, 7, 1, 6, 5, 0, 3, 8, 3, 3, 6, 2, 5, 0, 1, 1,\n",
       "       5, 5, 6, 9, 1, 6, 4, 8, 9, 8, 3, 5, 2, 0, 6, 1, 7, 3, 4, 2, 1, 8,\n",
       "       1, 7, 9, 3, 2, 4, 0, 4, 3, 5, 9, 8, 8, 9, 1, 6, 6, 8, 4, 5, 5, 1,\n",
       "       8, 3, 4, 9, 2, 9, 4, 3, 5, 4, 0, 8, 0, 4, 5, 3, 1, 6, 5, 9, 4, 8,\n",
       "       7, 4, 2, 3, 9, 9, 2, 6, 6, 3, 3, 0, 0, 3, 0, 0, 8, 7, 9, 8, 9, 1,\n",
       "       8, 7, 7, 3, 9, 7, 2, 1, 2, 0, 7, 6, 1, 2, 2, 6, 0, 0, 0, 1, 6, 0,\n",
       "       5, 8, 4, 3, 1, 4, 3, 2, 1, 1, 7, 8, 8, 7, 0, 0, 9, 3, 8, 2, 0, 7,\n",
       "       5, 7, 6, 9, 5, 7, 6, 3, 0, 2, 3, 5, 6, 8, 0, 5, 5, 4, 7, 0, 4, 4,\n",
       "       4, 8, 7, 9, 7, 1, 5, 2, 0, 3, 1, 1, 1, 7, 3, 4, 4, 1, 2, 4, 7, 1,\n",
       "       4, 1, 6, 5, 2, 2, 1, 8, 5, 0, 2, 0, 9, 0, 2, 2, 5, 0, 2, 7, 7, 3,\n",
       "       0, 1, 7, 2, 2, 2, 1, 1, 6, 7, 3, 3, 7, 6, 3, 1, 1, 9, 3, 6, 3, 4,\n",
       "       2, 2, 7, 8, 9, 8, 6, 4, 7, 3, 5, 5, 1, 7, 1, 9, 0, 5])"
      ]
     },
     "execution_count": 91,
     "metadata": {},
     "output_type": "execute_result"
    }
   ],
   "source": [
    "%time my_clf.predict(X_test)"
   ]
  },
  {
   "cell_type": "code",
   "execution_count": 92,
   "metadata": {},
   "outputs": [
    {
     "name": "stdout",
     "output_type": "stream",
     "text": [
      "CPU times: user 1min 14s, sys: 572 ms, total: 1min 14s\n",
      "Wall time: 1min 15s\n"
     ]
    },
    {
     "data": {
      "text/plain": [
       "array([[0., 0., 0., ..., 1., 0., 0.],\n",
       "       [0., 0., 0., ..., 0., 0., 0.],\n",
       "       [1., 0., 0., ..., 0., 0., 0.],\n",
       "       ...,\n",
       "       [0., 0., 0., ..., 0., 0., 1.],\n",
       "       [1., 0., 0., ..., 0., 0., 0.],\n",
       "       [0., 0., 0., ..., 0., 0., 0.]])"
      ]
     },
     "execution_count": 92,
     "metadata": {},
     "output_type": "execute_result"
    }
   ],
   "source": [
    "%time clf.predict_proba(X_test)"
   ]
  },
  {
   "cell_type": "code",
   "execution_count": 93,
   "metadata": {},
   "outputs": [
    {
     "name": "stdout",
     "output_type": "stream",
     "text": [
      "CPU times: user 54 s, sys: 1.61 s, total: 55.6 s\n",
      "Wall time: 56.2 s\n"
     ]
    },
    {
     "data": {
      "text/plain": [
       "array([[0., 0., 0., ..., 1., 0., 0.],\n",
       "       [0., 0., 0., ..., 0., 0., 0.],\n",
       "       [1., 0., 0., ..., 0., 0., 0.],\n",
       "       ...,\n",
       "       [0., 0., 0., ..., 0., 0., 1.],\n",
       "       [1., 0., 0., ..., 0., 0., 0.],\n",
       "       [0., 0., 0., ..., 0., 0., 0.]])"
      ]
     },
     "execution_count": 93,
     "metadata": {},
     "output_type": "execute_result"
    }
   ],
   "source": [
    "%time my_clf.predict_proba(X_test)"
   ]
  },
  {
   "cell_type": "code",
   "execution_count": 94,
   "metadata": {},
   "outputs": [
    {
     "data": {
      "text/plain": [
       "0.9671428571428572"
      ]
     },
     "execution_count": 94,
     "metadata": {},
     "output_type": "execute_result"
    }
   ],
   "source": [
    "clf.score(X_test, y_test)"
   ]
  },
  {
   "cell_type": "code",
   "execution_count": 95,
   "metadata": {},
   "outputs": [
    {
     "data": {
      "text/plain": [
       "0.9671428571428572"
      ]
     },
     "execution_count": 95,
     "metadata": {},
     "output_type": "execute_result"
    }
   ],
   "source": [
    "my_clf.score(X_test, y_test)"
   ]
  },
  {
   "cell_type": "markdown",
   "metadata": {},
   "source": [
    "Задание 4"
   ]
  },
  {
   "cell_type": "code",
   "execution_count": 364,
   "metadata": {},
   "outputs": [],
   "source": [
    "clf = KNeighborsClassifier(n_neighbors=2, algorithm='kd_tree')\n",
    "my_clf = MyKNeighborsClassifier(n_neighbors=2, algorithm='kd_tree')"
   ]
  },
  {
   "cell_type": "code",
   "execution_count": 365,
   "metadata": {},
   "outputs": [],
   "source": [
    "X_train, X_test, y_train, y_test = train_test_split(mnist.data, mnist.target, test_size=0.01, stratify=mnist.target)"
   ]
  },
  {
   "cell_type": "code",
   "execution_count": 366,
   "metadata": {},
   "outputs": [
    {
     "name": "stdout",
     "output_type": "stream",
     "text": [
      "CPU times: user 57.5 s, sys: 1.06 s, total: 58.5 s\n",
      "Wall time: 59.1 s\n"
     ]
    },
    {
     "data": {
      "text/plain": [
       "KNeighborsClassifier(algorithm='kd_tree', leaf_size=30, metric='minkowski',\n",
       "           metric_params=None, n_jobs=None, n_neighbors=2, p=2,\n",
       "           weights='uniform')"
      ]
     },
     "execution_count": 366,
     "metadata": {},
     "output_type": "execute_result"
    }
   ],
   "source": [
    "%time clf.fit(X_train, y_train)"
   ]
  },
  {
   "cell_type": "code",
   "execution_count": 367,
   "metadata": {},
   "outputs": [
    {
     "name": "stdout",
     "output_type": "stream",
     "text": [
      "CPU times: user 56.3 s, sys: 888 ms, total: 57.2 s\n",
      "Wall time: 56.5 s\n"
     ]
    }
   ],
   "source": [
    "%time my_clf.fit(X_train, y_train)"
   ]
  },
  {
   "cell_type": "code",
   "execution_count": 370,
   "metadata": {},
   "outputs": [
    {
     "name": "stdout",
     "output_type": "stream",
     "text": [
      "CPU times: user 1min 34s, sys: 43.7 s, total: 2min 17s\n",
      "Wall time: 2min 47s\n"
     ]
    },
    {
     "data": {
      "text/plain": [
       "array([7, 9, 4, 3, 3, 5, 9, 9, 6, 7, 3, 4, 1, 9, 8, 8, 0, 0, 0, 4, 7, 3,\n",
       "       2, 0, 2, 5, 9, 1, 3, 3, 4, 6, 9, 5, 3, 4, 7, 8, 7, 5, 1, 0, 1, 0,\n",
       "       8, 7, 1, 7, 9, 2, 4, 3, 7, 0, 9, 9, 7, 7, 3, 1, 1, 0, 4, 2, 9, 2,\n",
       "       8, 5, 6, 8, 8, 1, 6, 2, 0, 5, 0, 4, 7, 6, 8, 2, 3, 2, 3, 4, 7, 9,\n",
       "       6, 2, 8, 3, 5, 8, 1, 6, 1, 6, 9, 4, 4, 7, 7, 1, 3, 0, 8, 6, 7, 7,\n",
       "       5, 4, 8, 1, 4, 3, 9, 3, 7, 7, 1, 3, 7, 8, 7, 0, 3, 6, 7, 4, 1, 6,\n",
       "       6, 7, 4, 3, 5, 9, 1, 8, 6, 1, 7, 1, 2, 4, 3, 9, 4, 1, 4, 6, 4, 9,\n",
       "       1, 1, 2, 6, 7, 9, 9, 2, 5, 9, 3, 8, 1, 8, 0, 7, 8, 1, 3, 3, 5, 2,\n",
       "       8, 9, 7, 0, 9, 7, 5, 3, 4, 9, 7, 2, 4, 4, 0, 1, 8, 2, 7, 3, 9, 2,\n",
       "       0, 7, 4, 4, 8, 9, 7, 8, 6, 4, 6, 5, 8, 5, 8, 5, 4, 3, 1, 5, 3, 1,\n",
       "       2, 8, 5, 6, 6, 3, 1, 4, 7, 9, 9, 5, 5, 1, 3, 5, 8, 3, 4, 0, 5, 3,\n",
       "       4, 7, 4, 6, 5, 1, 8, 1, 6, 3, 5, 6, 4, 3, 4, 6, 5, 9, 4, 7, 3, 6,\n",
       "       2, 4, 4, 9, 7, 6, 0, 6, 1, 3, 8, 6, 3, 4, 8, 3, 0, 4, 7, 8, 9, 0,\n",
       "       1, 5, 8, 0, 0, 6, 7, 8, 2, 8, 5, 9, 4, 4, 8, 1, 3, 2, 7, 5, 3, 7,\n",
       "       3, 1, 8, 9, 8, 0, 2, 4, 4, 6, 2, 9, 5, 6, 8, 2, 5, 1, 1, 0, 1, 0,\n",
       "       9, 9, 1, 4, 0, 5, 7, 6, 1, 1, 3, 8, 5, 4, 1, 3, 6, 0, 3, 7, 3, 6,\n",
       "       3, 1, 2, 2, 6, 3, 3, 2, 9, 1, 6, 4, 5, 1, 2, 6, 9, 0, 4, 6, 1, 1,\n",
       "       7, 6, 1, 0, 2, 1, 0, 2, 0, 6, 2, 2, 4, 3, 6, 9, 5, 2, 9, 3, 7, 8,\n",
       "       0, 7, 3, 6, 3, 4, 5, 2, 5, 3, 0, 5, 2, 7, 0, 6, 7, 2, 4, 7, 3, 6,\n",
       "       8, 1, 2, 5, 6, 9, 5, 5, 8, 6, 1, 0, 2, 7, 2, 3, 1, 8, 8, 0, 3, 4,\n",
       "       1, 1, 6, 5, 7, 7, 8, 0, 3, 4, 7, 1, 4, 1, 5, 9, 7, 3, 8, 2, 8, 0,\n",
       "       0, 5, 1, 1, 2, 3, 7, 1, 3, 1, 9, 1, 6, 0, 9, 7, 5, 3, 9, 7, 3, 7,\n",
       "       9, 0, 0, 7, 3, 7, 3, 5, 1, 9, 1, 7, 7, 8, 4, 6, 8, 5, 9, 4, 4, 1,\n",
       "       5, 3, 0, 4, 4, 8, 2, 8, 7, 0, 1, 1, 6, 3, 4, 9, 3, 6, 9, 9, 8, 6,\n",
       "       5, 0, 3, 9, 0, 0, 2, 5, 6, 7, 8, 1, 6, 5, 7, 5, 3, 0, 7, 1, 3, 1,\n",
       "       2, 0, 8, 2, 9, 6, 0, 5, 5, 3, 7, 2, 1, 8, 6, 4, 0, 9, 2, 9, 6, 9,\n",
       "       2, 2, 2, 6, 0, 8, 6, 2, 7, 2, 2, 3, 8, 7, 5, 1, 0, 9, 9, 5, 7, 1,\n",
       "       9, 3, 0, 1, 4, 5, 2, 9, 2, 0, 6, 2, 9, 9, 4, 5, 5, 2, 2, 6, 0, 8,\n",
       "       4, 2, 2, 4, 0, 0, 7, 4, 7, 2, 8, 3, 9, 3, 3, 1, 2, 1, 3, 9, 2, 5,\n",
       "       2, 6, 8, 1, 0, 8, 9, 1, 5, 0, 7, 4, 6, 9, 0, 2, 6, 6, 8, 2, 0, 5,\n",
       "       9, 2, 6, 5, 0, 1, 0, 8, 6, 4, 3, 0, 7, 2, 1, 0, 1, 3, 1, 2, 0, 9,\n",
       "       6, 8, 4, 4, 9, 5, 3, 4, 2, 9, 1, 0, 4, 5, 6, 0, 7, 0])"
      ]
     },
     "execution_count": 370,
     "metadata": {},
     "output_type": "execute_result"
    }
   ],
   "source": [
    "%time clf.predict(X_test)"
   ]
  },
  {
   "cell_type": "code",
   "execution_count": 371,
   "metadata": {},
   "outputs": [
    {
     "name": "stdout",
     "output_type": "stream",
     "text": [
      "CPU times: user 1min 5s, sys: 4.16 s, total: 1min 9s\n",
      "Wall time: 1min 14s\n"
     ]
    },
    {
     "data": {
      "text/plain": [
       "array([7, 9, 4, 3, 3, 5, 9, 9, 6, 7, 3, 4, 1, 9, 8, 8, 0, 0, 0, 4, 7, 3,\n",
       "       2, 0, 2, 5, 9, 1, 3, 3, 4, 6, 9, 5, 3, 4, 7, 8, 7, 5, 1, 0, 1, 0,\n",
       "       8, 7, 1, 7, 9, 2, 4, 3, 7, 0, 9, 9, 7, 7, 3, 1, 1, 0, 4, 2, 9, 2,\n",
       "       8, 5, 6, 8, 8, 1, 6, 2, 0, 5, 0, 4, 7, 6, 8, 2, 3, 2, 3, 4, 7, 9,\n",
       "       6, 2, 8, 3, 5, 8, 1, 6, 1, 6, 9, 4, 4, 7, 7, 1, 3, 0, 8, 6, 7, 7,\n",
       "       5, 4, 8, 1, 4, 3, 9, 3, 7, 7, 1, 3, 7, 8, 7, 0, 3, 6, 7, 4, 1, 6,\n",
       "       6, 7, 4, 3, 5, 9, 1, 8, 6, 1, 7, 1, 2, 4, 3, 9, 4, 1, 4, 6, 4, 9,\n",
       "       1, 1, 2, 6, 7, 9, 9, 2, 5, 9, 3, 8, 1, 8, 0, 7, 8, 1, 3, 3, 5, 2,\n",
       "       8, 9, 7, 0, 9, 7, 5, 3, 4, 9, 7, 2, 4, 4, 0, 1, 8, 2, 7, 3, 9, 2,\n",
       "       0, 7, 4, 4, 8, 9, 7, 8, 6, 4, 6, 5, 8, 5, 8, 5, 4, 3, 1, 5, 3, 1,\n",
       "       2, 8, 5, 6, 6, 3, 1, 4, 7, 9, 9, 5, 5, 1, 3, 5, 8, 3, 4, 0, 5, 3,\n",
       "       4, 7, 4, 6, 5, 1, 8, 1, 6, 3, 5, 6, 4, 3, 4, 6, 5, 9, 4, 7, 3, 6,\n",
       "       2, 4, 4, 9, 7, 6, 0, 6, 1, 3, 8, 6, 3, 4, 8, 3, 0, 4, 7, 8, 9, 0,\n",
       "       1, 5, 8, 0, 0, 6, 7, 8, 2, 8, 5, 9, 4, 4, 8, 1, 3, 2, 7, 5, 3, 7,\n",
       "       3, 1, 8, 9, 8, 0, 2, 4, 4, 6, 2, 9, 5, 6, 8, 2, 5, 1, 1, 0, 1, 0,\n",
       "       9, 9, 1, 4, 0, 5, 7, 6, 1, 1, 3, 8, 5, 4, 1, 3, 6, 0, 3, 7, 3, 6,\n",
       "       3, 1, 2, 2, 6, 3, 3, 2, 9, 1, 6, 4, 5, 1, 2, 6, 9, 0, 4, 6, 1, 1,\n",
       "       7, 6, 1, 0, 2, 1, 0, 2, 0, 6, 2, 2, 4, 3, 6, 9, 5, 2, 9, 3, 7, 8,\n",
       "       0, 7, 3, 6, 3, 4, 5, 2, 5, 3, 0, 5, 2, 7, 0, 6, 7, 2, 4, 7, 3, 6,\n",
       "       8, 1, 2, 5, 6, 9, 5, 5, 8, 6, 1, 0, 2, 7, 2, 3, 1, 8, 8, 0, 3, 4,\n",
       "       1, 1, 6, 5, 7, 7, 8, 0, 3, 4, 7, 1, 4, 1, 5, 9, 7, 3, 8, 2, 8, 0,\n",
       "       0, 5, 1, 1, 2, 3, 7, 1, 3, 1, 9, 1, 6, 0, 9, 7, 5, 3, 9, 7, 3, 7,\n",
       "       9, 0, 0, 7, 3, 7, 3, 5, 1, 9, 1, 7, 7, 8, 4, 6, 8, 5, 9, 4, 4, 1,\n",
       "       5, 3, 0, 4, 4, 8, 2, 8, 7, 0, 1, 1, 6, 3, 4, 9, 3, 6, 9, 9, 8, 6,\n",
       "       5, 0, 3, 9, 0, 0, 2, 5, 6, 7, 8, 1, 6, 5, 7, 5, 3, 0, 7, 1, 3, 1,\n",
       "       2, 0, 8, 2, 9, 6, 0, 5, 5, 3, 7, 2, 1, 8, 6, 4, 0, 9, 2, 9, 6, 9,\n",
       "       2, 2, 2, 6, 0, 8, 6, 2, 7, 2, 2, 3, 8, 7, 5, 1, 0, 9, 9, 5, 7, 1,\n",
       "       9, 3, 0, 1, 4, 5, 2, 9, 2, 0, 6, 2, 9, 9, 4, 5, 5, 2, 2, 6, 0, 8,\n",
       "       4, 2, 2, 4, 0, 0, 7, 4, 7, 2, 8, 3, 9, 3, 3, 1, 2, 1, 3, 9, 2, 5,\n",
       "       2, 6, 8, 1, 0, 8, 9, 1, 5, 0, 7, 4, 6, 9, 0, 2, 6, 6, 8, 2, 0, 5,\n",
       "       9, 2, 6, 5, 0, 1, 0, 8, 6, 4, 3, 0, 7, 2, 1, 0, 1, 3, 1, 2, 0, 9,\n",
       "       6, 8, 4, 4, 9, 5, 3, 4, 2, 9, 1, 0, 4, 5, 6, 0, 7, 0])"
      ]
     },
     "execution_count": 371,
     "metadata": {},
     "output_type": "execute_result"
    }
   ],
   "source": [
    "%time my_clf.predict(X_test)"
   ]
  },
  {
   "cell_type": "code",
   "execution_count": 376,
   "metadata": {},
   "outputs": [
    {
     "name": "stdout",
     "output_type": "stream",
     "text": [
      "CPU times: user 1min 13s, sys: 1.01 s, total: 1min 14s\n",
      "Wall time: 1min 14s\n"
     ]
    },
    {
     "data": {
      "text/plain": [
       "array([[0. , 0. , 0. , ..., 1. , 0. , 0. ],\n",
       "       [0. , 0. , 0. , ..., 0. , 0. , 1. ],\n",
       "       [0. , 0. , 0. , ..., 0. , 0. , 0. ],\n",
       "       ...,\n",
       "       [0.5, 0. , 0.5, ..., 0. , 0. , 0. ],\n",
       "       [0. , 0. , 0. , ..., 1. , 0. , 0. ],\n",
       "       [1. , 0. , 0. , ..., 0. , 0. , 0. ]])"
      ]
     },
     "execution_count": 376,
     "metadata": {},
     "output_type": "execute_result"
    }
   ],
   "source": [
    "%time clf.predict_proba(X_test)"
   ]
  },
  {
   "cell_type": "code",
   "execution_count": 377,
   "metadata": {},
   "outputs": [
    {
     "name": "stdout",
     "output_type": "stream",
     "text": [
      "CPU times: user 1min, sys: 381 ms, total: 1min\n",
      "Wall time: 1min 1s\n"
     ]
    },
    {
     "data": {
      "text/plain": [
       "array([[0. , 0. , 0. , ..., 1. , 0. , 0. ],\n",
       "       [0. , 0. , 0. , ..., 0. , 0. , 1. ],\n",
       "       [0. , 0. , 0. , ..., 0. , 0. , 0. ],\n",
       "       ...,\n",
       "       [0.5, 0. , 0.5, ..., 0. , 0. , 0. ],\n",
       "       [0. , 0. , 0. , ..., 1. , 0. , 0. ],\n",
       "       [1. , 0. , 0. , ..., 0. , 0. , 0. ]])"
      ]
     },
     "execution_count": 377,
     "metadata": {},
     "output_type": "execute_result"
    }
   ],
   "source": [
    "%time my_clf.predict_proba(X_test)"
   ]
  },
  {
   "cell_type": "code",
   "execution_count": 374,
   "metadata": {},
   "outputs": [
    {
     "data": {
      "text/plain": [
       "0.9714285714285714"
      ]
     },
     "execution_count": 374,
     "metadata": {},
     "output_type": "execute_result"
    }
   ],
   "source": [
    "clf.score(X_test, y_test)"
   ]
  },
  {
   "cell_type": "code",
   "execution_count": 375,
   "metadata": {},
   "outputs": [
    {
     "data": {
      "text/plain": [
       "0.9714285714285714"
      ]
     },
     "execution_count": 375,
     "metadata": {},
     "output_type": "execute_result"
    }
   ],
   "source": [
    "my_clf.score(X_test, y_test)"
   ]
  },
  {
   "cell_type": "markdown",
   "metadata": {},
   "source": [
    "Задание 5"
   ]
  },
  {
   "cell_type": "code",
   "execution_count": null,
   "metadata": {},
   "outputs": [],
   "source": [
    "# seaborn - библиотека для визуализации данных, онснованная на matplotlib\n",
    "# matplotlib - библиотека для визуализации данных: построение графиков\n",
    "# train_test_split - функция из sklearn, необходима для разбиение данных на тренировочную и тестовую части\n",
    "# Pipelin%load_ext e (from sklearn.pipeline import Pipeline) - для последовательного преобразования данных\n",
    "# StandardScaler (from sklearn.preprocessing import StandardScaler) - преобразование данных со\n",
    "# средним значением 0 и стандартным отклонением 1\n",
    "# ClassifierMixin - базовый класс для всех классификаторов sklearn\n",
    "# NeighborsBase - базовый класс для knn\n",
    "# KNeighborsMixin - класс из sklearn для поиска k ближайших соседей\n",
    "# SupervisedIntegerMixin - класс sklearn, используемый для рандомизации в fit методе в классе NeighborsBase"
   ]
  }
 ],
 "metadata": {
  "kernelspec": {
   "display_name": "Python 3",
   "language": "python",
   "name": "python3"
  },
  "language_info": {
   "codemirror_mode": {
    "name": "ipython",
    "version": 3
   },
   "file_extension": ".py",
   "mimetype": "text/x-python",
   "name": "python",
   "nbconvert_exporter": "python",
   "pygments_lexer": "ipython3",
   "version": "3.7.1"
  }
 },
 "nbformat": 4,
 "nbformat_minor": 2
}
